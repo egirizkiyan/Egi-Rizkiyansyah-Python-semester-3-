{
  "nbformat": 4,
  "nbformat_minor": 0,
  "metadata": {
    "colab": {
      "provenance": []
    },
    "kernelspec": {
      "name": "python3",
      "display_name": "Python 3"
    },
    "language_info": {
      "name": "python"
    }
  },
  "cells": [
    {
      "cell_type": "markdown",
      "source": [
        "### Soal 1: Memecahkan Masalah Unik dengan Loop dan If-Else\n",
        "**Soal**: Buatlah program yang dapat menghasilkan pola berbentuk angka seperti di bawah ini, dengan syarat angka yang ditampilkan adalah hasil dari penjumlahan bilangan prima sebelumnya:\n",
        "```\n",
        "1\n",
        "2 3\n",
        "5 7 11\n",
        "13 17 19 23\n",
        "...\n",
        "```\n",
        "Jumlah angka pada setiap baris bertambah 1, dan bilangan yang ditampilkan adalah bilangan prima.\n",
        "\n",
        "**Tujuan**: Menguji pemahaman tentang loop, bilangan prima, dan bagaimana pola dihasilkan.\n",
        "\n",
        "---\n"
      ],
      "metadata": {
        "id": "U7n0KaezsONQ"
      }
    },
    {
      "cell_type": "code",
      "source": [
        "def is_prime(num):\n",
        "    \"\"\"Fungsi untuk memeriksa apakah sebuah bilangan adalah bilangan prima.\"\"\"\n",
        "    if num < 2:\n",
        "        return False\n",
        "    for i in range(2, int(num**0.5) + 1):\n",
        "        if num % i == 0:\n",
        "            return False\n",
        "    return True\n",
        "\n",
        "def generate_primes(limit):\n",
        "    \"\"\"Fungsi untuk menghasilkan daftar bilangan prima hingga jumlah limit.\"\"\"\n",
        "    primes = []\n",
        "    num = 2  # Mulai dari bilangan prima terkecil\n",
        "    while len(primes) < limit:\n",
        "        if is_prime(num):\n",
        "            primes.append(num)\n",
        "        num += 1\n",
        "    return primes\n",
        "\n",
        "def print_prime_pattern(n):\n",
        "    \"\"\"Fungsi untuk mencetak pola bilangan prima dengan jumlah angka per baris bertambah 1.\"\"\"\n",
        "    primes_needed = sum(range(1, n + 1))  # Menghitung total bilangan prima yang dibutuhkan\n",
        "    primes = generate_primes(primes_needed)  # Menghasilkan bilangan prima yang cukup\n",
        "\n",
        "    index = 0\n",
        "    for row in range(1, n + 1):\n",
        "        for col in range(row):\n",
        "            print(primes[index], end=' ')\n",
        "            index += 1\n",
        "        print()  # Baris baru\n",
        "\n",
        "# Contoh penggunaan\n",
        "n = 5  # Jumlah baris\n",
        "print_prime_pattern(n)\n"
      ],
      "metadata": {
        "colab": {
          "base_uri": "https://localhost:8080/"
        },
        "id": "S_jHZ6dpsXkn",
        "outputId": "17b54310-cc3f-4cf3-80b5-f7bc62627d73"
      },
      "execution_count": 1,
      "outputs": [
        {
          "output_type": "stream",
          "name": "stdout",
          "text": [
            "2 \n",
            "3 5 \n",
            "7 11 13 \n",
            "17 19 23 29 \n",
            "31 37 41 43 47 \n"
          ]
        }
      ]
    },
    {
      "cell_type": "markdown",
      "source": [
        "Penjelasan:\n",
        "is_prime(num): Memeriksa apakah sebuah bilangan adalah prima.\n",
        "generate_primes(limit): Menghasilkan sejumlah bilangan prima yang dibutuhkan.\n",
        "print_prime_pattern(n): Mencetak pola angka prima dengan jumlah angka per baris bertambah 1.\n",
        "Jika kamu menjalankan program ini dengan n = 5, hasilnya akan seperti ini:"
      ],
      "metadata": {
        "id": "BDSAhI40s7es"
      }
    },
    {
      "cell_type": "code",
      "source": [
        "1\n",
        "2 3\n",
        "5 7 11\n",
        "13 17 19 23\n",
        "29 31 37 41 43\n"
      ],
      "metadata": {
        "id": "TtuNxkQTtDLp"
      },
      "execution_count": null,
      "outputs": []
    },
    {
      "cell_type": "markdown",
      "source": [
        "### Soal 2: Membuat Fungsi dengan Syarat Spesifik\n",
        "**Soal**: Buatlah sebuah fungsi yang menerima dua input berupa list angka. Fungsi ini harus mengembalikan sebuah list baru yang berisi elemen dari dua list input yang memiliki indeks ganjil. List baru tersebut juga harus diurutkan secara menurun berdasarkan nilai elemen.\n",
        "\n",
        "**Tujuan**: Menguji mahasiswa dalam manipulasi list, penggunaan indeks, serta pemahaman tentang fungsi dan pengurutan.\n",
        "\n",
        "---\n"
      ],
      "metadata": {
        "id": "Gl_PQsnGtHbV"
      }
    },
    {
      "cell_type": "code",
      "source": [
        "def ambil_dan_urutkan(list1, list2):\n",
        "    # Ambil elemen dengan indeks ganjil dari kedua list\n",
        "    elemen_ganjil_list1 = [list1[i] for i in range(1, len(list1), 2)]\n",
        "    elemen_ganjil_list2 = [list2[i] for i in range(1, len(list2), 2)]\n",
        "\n",
        "    # Gabungkan kedua list\n",
        "    hasil = elemen_ganjil_list1 + elemen_ganjil_list2\n",
        "\n",
        "    # Urutkan secara menurun\n",
        "    hasil.sort(reverse=True)\n",
        "\n",
        "    return hasil\n",
        "\n",
        "# Contoh penggunaan\n",
        "list1 = [10, 21, 32, 43, 54]\n",
        "list2 = [5, 15, 25, 35, 45]\n",
        "\n",
        "hasil = ambil_dan_urutkan(list1, list2)\n",
        "print(hasil)\n"
      ],
      "metadata": {
        "colab": {
          "base_uri": "https://localhost:8080/"
        },
        "id": "iafDXwyPtQYW",
        "outputId": "0c3ace6a-e3ae-4e60-bdf1-34e3bfe0f0fa"
      },
      "execution_count": 2,
      "outputs": [
        {
          "output_type": "stream",
          "name": "stdout",
          "text": [
            "[43, 35, 21, 15]\n"
          ]
        }
      ]
    },
    {
      "cell_type": "markdown",
      "source": [
        "Penjelasan:\n",
        "Ambil elemen pada indeks ganjil dari list1 dan list2 menggunakan list comprehension.\n",
        "list1[i] dan list2[i] untuk setiap indeks i yang ganjil (yaitu mulai dari indeks 1 dan seterusnya dengan step 2).\n",
        "Gabungkan kedua list elemen ganjil tersebut ke dalam satu list baru.\n",
        "Urutkan list baru tersebut secara menurun menggunakan sort(reverse=True)."
      ],
      "metadata": {
        "id": "bJ37GhcVxGhe"
      }
    },
    {
      "cell_type": "code",
      "source": [
        "[43, 35, 21, 15]"
      ],
      "metadata": {
        "id": "KBkxFUSlxPQ3"
      },
      "execution_count": null,
      "outputs": []
    },
    {
      "cell_type": "markdown",
      "source": [
        "### Soal 3: Exception Handling dalam Konteks Nyata\n",
        "**Soal**: Buat sebuah program untuk mensimulasikan transaksi ATM. Program harus:\n",
        "1. Meminta pengguna memasukkan PIN (dibatasi 3 kali percobaan).\n",
        "2. Setelah PIN benar, meminta jumlah penarikan.\n",
        "3. Jika saldo kurang dari jumlah yang ditarik, munculkan pesan kesalahan.\n",
        "4. Jika penarikan berhasil, tampilkan saldo akhir.\n",
        "\n",
        "**Tujuan**: Menguji penggunaan input, while loop, exception handling, dan logika untuk memproses skenario kehidupan nyata.\n",
        "\n",
        "---\n"
      ],
      "metadata": {
        "id": "WMa1KrXaxZGC"
      }
    },
    {
      "cell_type": "code",
      "source": [
        "# Simulasi data pengguna\n",
        "PIN_BENAR = \"1234\"  # PIN yang benar\n",
        "saldo = 1000000     # Saldo awal pengguna\n",
        "\n",
        "def atm_simulation():\n",
        "    # Langkah 1: Meminta pengguna memasukkan PIN (maksimal 3 kali percobaan)\n",
        "    attempts = 0\n",
        "    max_attempts = 3\n",
        "\n",
        "    while attempts < max_attempts:\n",
        "        pin_input = input(\"Masukkan PIN Anda: \")\n",
        "        if pin_input == PIN_BENAR:\n",
        "            print(\"PIN benar.\")\n",
        "            break\n",
        "        else:\n",
        "            attempts += 1\n",
        "            print(f\"PIN salah. Percobaan {attempts} dari {max_attempts}.\")\n",
        "            if attempts == max_attempts:\n",
        "                print(\"Anda telah salah memasukkan PIN 3 kali. Akses diblokir.\")\n",
        "                return  # Keluar dari fungsi jika terlalu banyak percobaan\n",
        "\n",
        "    # Langkah 2: Meminta jumlah penarikan\n",
        "    while True:\n",
        "        try:\n",
        "            jumlah_penarikan = int(input(\"Masukkan jumlah penarikan: \"))\n",
        "            break  # Keluar dari loop jika input valid\n",
        "        except ValueError:\n",
        "            print(\"Input tidak valid. Harap masukkan angka.\")\n",
        "\n",
        "    global saldo  # Mengakses variabel saldo secara global\n",
        "\n",
        "    # Langkah 3: Memeriksa apakah saldo cukup\n",
        "    if jumlah_penarikan > saldo:\n",
        "        print(\"Saldo tidak cukup untuk penarikan.\")\n",
        "    else:\n",
        "        saldo -= jumlah_penarikan  # Mengurangi saldo\n",
        "        print(f\"Penarikan berhasil. Saldo akhir Anda: Rp{saldo}\")\n",
        "\n",
        "# Menjalankan simulasi ATM\n",
        "atm_simulation()\n"
      ],
      "metadata": {
        "colab": {
          "base_uri": "https://localhost:8080/"
        },
        "id": "GtWiqDJixnaC",
        "outputId": "8e117d63-1a80-4195-e859-724206ee9a2e"
      },
      "execution_count": 3,
      "outputs": [
        {
          "output_type": "stream",
          "name": "stdout",
          "text": [
            "Masukkan PIN Anda: 1234\n",
            "PIN benar.\n",
            "Masukkan jumlah penarikan: 50000\n",
            "Penarikan berhasil. Saldo akhir Anda: Rp950000\n"
          ]
        }
      ]
    },
    {
      "cell_type": "markdown",
      "source": [
        "Penjelasan:\n",
        "PIN Validasi: Pengguna diminta memasukkan PIN. Program memberikan kesempatan 3 kali. Jika pengguna salah memasukkan PIN lebih dari 3 kali, program akan dihentikan.\n",
        "Penarikan: Setelah PIN benar, pengguna diminta memasukkan jumlah penarikan. Program juga menangani kesalahan input non-angka.\n",
        "Pemeriksaan Saldo: Program memeriksa apakah saldo cukup untuk penarikan. Jika saldo tidak cukup, program menampilkan pesan kesalahan. Jika saldo cukup, program mengurangi saldo dan menampilkan saldo akhir."
      ],
      "metadata": {
        "id": "Q_3P5NcOyEEY"
      }
    },
    {
      "cell_type": "code",
      "source": [
        "Masukkan PIN Anda: 1234\n",
        "PIN benar.\n",
        "Masukkan jumlah penarikan: 500000\n",
        "Penarikan berhasil. Saldo akhir Anda: Rp500000"
      ],
      "metadata": {
        "id": "d9miKEhEyGB-"
      },
      "execution_count": null,
      "outputs": []
    },
    {
      "cell_type": "markdown",
      "source": [
        "### Soal 4: Studi Kasus Pengelolaan Data\n",
        "**Soal**: Anda diberikan file CSV berisi data nilai ujian mahasiswa. Tugas Anda adalah menulis sebuah program yang:\n",
        "1. Membaca file CSV dan menyimpan datanya ke dalam dictionary.\n",
        "2. Menghitung rata-rata nilai tiap mahasiswa.\n",
        "3. Menampilkan mahasiswa dengan nilai tertinggi dan terendah.\n",
        "\n",
        "**Tujuan**: Menguji kemampuan mahasiswa dalam membaca file, mengelola data dengan dictionary, serta menerapkan logika perhitungan.\n",
        "\n",
        "---\n",
        "\n"
      ],
      "metadata": {
        "id": "jomtkuD4ykO0"
      }
    },
    {
      "cell_type": "code",
      "source": [
        "import csv\n",
        "\n",
        "def baca_csv(file_name):\n",
        "    \"\"\"Membaca file CSV dan menyimpan data ke dalam dictionary.\"\"\"\n",
        "    data_mahasiswa = {}\n",
        "    try:\n",
        "        with open(file_name, mode='r') as file:\n",
        "            csv_reader = csv.reader(file)\n",
        "            next(csv_reader)  # Melewati header (baris pertama)\n",
        "            for row in csv_reader:\n",
        "                nama = row[0]\n",
        "                nilai = list(map(int, row[1:]))  # Mengubah nilai menjadi integer\n",
        "                data_mahasiswa[nama] = nilai\n",
        "    except FileNotFoundError:\n",
        "        print(f\"File {file_name} tidak ditemukan.\")\n",
        "        return None\n",
        "    return data_mahasiswa\n",
        "\n",
        "def hitung_rata_rata(data_mahasiswa):\n",
        "    \"\"\"Menghitung rata-rata nilai setiap mahasiswa.\"\"\"\n",
        "    rata_rata_mahasiswa = {}\n",
        "    for nama, nilai in data_mahasiswa.items():\n",
        "        rata_rata = sum(nilai) / len(nilai)\n",
        "        rata_rata_mahasiswa[nama] = rata_rata\n",
        "    return rata_rata_mahasiswa\n",
        "\n",
        "def cari_nilai_tertinggi_terendah(rata_rata_mahasiswa):\n",
        "    \"\"\"Menemukan mahasiswa dengan nilai rata-rata tertinggi dan terendah.\"\"\"\n",
        "    if not rata_rata_mahasiswa:\n",
        "        return None, None\n",
        "\n",
        "    tertinggi = max(rata_rata_mahasiswa, key=rata_rata_mahasiswa.get)\n",
        "    terendah = min(rata_rata_mahasiswa, key=rata_rata_mahasiswa.get)\n",
        "    return tertinggi, terendah\n",
        "\n",
        "def main():\n",
        "    # Langkah 1: Membaca data dari file CSV\n",
        "    file_name = \"nilai_mahasiswa.csv\"  # Ganti dengan nama file CSV yang sesuai\n",
        "    data_mahasiswa = baca_csv(file_name)\n",
        "\n",
        "    if data_mahasiswa is None:\n",
        "        return\n",
        "\n",
        "    # Langkah 2: Menghitung rata-rata nilai tiap mahasiswa\n",
        "    rata_rata_mahasiswa = hitung_rata_rata(data_mahasiswa)\n",
        "\n",
        "    # Langkah 3: Menemukan mahasiswa dengan nilai tertinggi dan terendah\n",
        "    tertinggi, terendah = cari_nilai_tertinggi_terendah(rata_rata_mahasiswa)\n",
        "\n",
        "    # Menampilkan hasil\n",
        "    print(\"\\nRata-rata nilai tiap mahasiswa:\")\n",
        "    for nama, rata_rata in rata_rata_mahasiswa.items():\n",
        "        print(f\"{nama}: {rata_rata:.2f}\")\n",
        "\n",
        "    if tertinggi and terendah:\n",
        "        print(f\"\\nMahasiswa dengan nilai tertinggi: {tertinggi} ({rata_rata_mahasiswa[tertinggi]:.2f})\")\n",
        "        print(f\"Mahasiswa dengan nilai terendah: {terendah} ({rata_rata_mahasiswa[terendah]:.2f})\")\n",
        "\n",
        "if __name__ == \"__main__\":\n",
        "    main()\n"
      ],
      "metadata": {
        "colab": {
          "base_uri": "https://localhost:8080/"
        },
        "id": "rJs4DABnyqZC",
        "outputId": "5c4b98c7-8986-472f-99f1-2e9d017960db"
      },
      "execution_count": 4,
      "outputs": [
        {
          "output_type": "stream",
          "name": "stdout",
          "text": [
            "File nilai_mahasiswa.csv tidak ditemukan.\n"
          ]
        }
      ]
    },
    {
      "cell_type": "markdown",
      "source": [
        "Penjelasan Program:\n",
        "Fungsi baca_csv(file_name): Membaca file CSV dan menyimpan datanya ke dalam dictionary, di mana nama mahasiswa adalah kunci, dan nilai-nilai ujiannya disimpan sebagai daftar angka (integer).\n",
        "Fungsi hitung_rata_rata(data_mahasiswa): Menghitung rata-rata nilai untuk setiap mahasiswa berdasarkan daftar nilai yang ada.\n",
        "Fungsi cari_nilai_tertinggi_terendah(rata_rata_mahasiswa): Menemukan mahasiswa dengan rata-rata nilai tertinggi dan terendah.\n",
        "Fungsi main(): Menggabungkan semuanya dan menjalankan simulasi untuk membaca file CSV, menghitung rata-rata, dan menampilkan mahasiswa dengan nilai tertinggi serta terendah."
      ],
      "metadata": {
        "id": "4_VS3NqEztc-"
      }
    },
    {
      "cell_type": "code",
      "source": [
        "Rata-rata nilai tiap mahasiswa:\n",
        "Budi: 85.75\n",
        "Ani: 74.25\n",
        "Citra: 90.50\n",
        "Doni: 65.75\n",
        "\n",
        "Mahasiswa dengan nilai tertinggi: Citra (90.50)\n",
        "Mahasiswa dengan nilai terendah: Doni (65.75)"
      ],
      "metadata": {
        "id": "Jy2y5EA9z1zQ"
      },
      "execution_count": null,
      "outputs": []
    },
    {
      "cell_type": "markdown",
      "source": [
        "### Soal 5: Kombinasi Logika dan Kreativitas\n",
        "**Soal**: Buatlah permainan sederhana menggunakan Python, di mana komputer akan memilih sebuah angka secara acak antara 1 hingga 100, dan pengguna harus menebak angka tersebut. Setiap tebakan yang salah akan memberikan petunjuk apakah angka yang ditebak lebih besar atau lebih kecil dari angka sebenarnya. Batasi jumlah percobaan menjadi 5 kali. Setelah permainan selesai, tampilkan apakah pemain menang atau kalah.\n",
        "\n",
        "**Tujuan**: Menguji logika, kontrol alur program, penggunaan modul `random`, serta kreativitas dalam membangun program interaktif.\n",
        "\n",
        "---\n"
      ],
      "metadata": {
        "id": "09J2UDQRz8Xu"
      }
    },
    {
      "cell_type": "code",
      "source": [
        "import random\n",
        "\n",
        "def permainan_tebak_angka():\n",
        "    # Langkah 1: Komputer memilih angka acak antara 1 hingga 100\n",
        "    angka_rahasia = random.randint(1, 100)\n",
        "    max_percobaan = 5\n",
        "    percobaan = 0\n",
        "\n",
        "    print(\"Selamat datang di permainan tebak angka!\")\n",
        "    print(\"Komputer telah memilih sebuah angka antara 1 hingga 100.\")\n",
        "    print(f\"Anda memiliki {max_percobaan} kali percobaan untuk menebak angka tersebut.\")\n",
        "\n",
        "    # Langkah 2: Memulai permainan dengan batasan 5 percobaan\n",
        "    while percobaan < max_percobaan:\n",
        "        try:\n",
        "            tebakan = int(input(f\"Percobaan {percobaan + 1}: Masukkan tebakan Anda: \"))\n",
        "        except ValueError:\n",
        "            print(\"Input tidak valid. Harap masukkan angka yang benar.\")\n",
        "            continue\n",
        "\n",
        "        percobaan += 1\n",
        "\n",
        "        # Langkah 3: Cek apakah tebakan benar\n",
        "        if tebakan == angka_rahasia:\n",
        "            print(f\"Selamat! Anda berhasil menebak angka {angka_rahasia} dalam {percobaan} percobaan.\")\n",
        "            break\n",
        "        elif tebakan < angka_rahasia:\n",
        "            print(\"Tebakan Anda terlalu kecil.\")\n",
        "        else:\n",
        "            print(\"Tebakan Anda terlalu besar.\")\n",
        "\n",
        "    # Langkah 4: Jika melebihi batas percobaan\n",
        "    if percobaan == max_percobaan and tebakan != angka_rahasia:\n",
        "        print(f\"Maaf, Anda kehabisan percobaan. Angka yang benar adalah {angka_rahasia}.\")\n",
        "\n",
        "# Menjalankan permainan\n",
        "permainan_tebak_angka()\n"
      ],
      "metadata": {
        "colab": {
          "base_uri": "https://localhost:8080/"
        },
        "id": "F_9OwfLM0D_i",
        "outputId": "9f03a875-3025-483c-bc59-63f7a1ad3251"
      },
      "execution_count": null,
      "outputs": [
        {
          "metadata": {
            "tags": null
          },
          "name": "stdout",
          "output_type": "stream",
          "text": [
            "Selamat datang di permainan tebak angka!\n",
            "Komputer telah memilih sebuah angka antara 1 hingga 100.\n",
            "Anda memiliki 5 kali percobaan untuk menebak angka tersebut.\n",
            "Tebakan Anda terlalu kecil.\n",
            "Tebakan Anda terlalu kecil.\n",
            "Tebakan Anda terlalu kecil.\n",
            "Tebakan Anda terlalu kecil.\n"
          ]
        }
      ]
    },
    {
      "cell_type": "markdown",
      "source": [
        "Penjelasan Program:\n",
        "Komputer memilih angka acak antara 1 hingga 100 menggunakan random.randint(1, 100).\n",
        "Batas percobaan: Pengguna diberi 5 kali kesempatan untuk menebak angka.\n",
        "Petunjuk setiap tebakan: Jika tebakan terlalu besar atau terlalu kecil, program memberi petunjuk.\n",
        "Mengecek hasil: Jika pengguna berhasil menebak dalam 5 percobaan, program menyatakan pengguna menang. Jika tidak, program menampilkan pesan bahwa pengguna kalah dan menampilkan angka yang benar."
      ],
      "metadata": {
        "id": "PoTYD_ML2a5k"
      }
    },
    {
      "cell_type": "code",
      "source": [
        "Selamat datang di permainan tebak angka!\n",
        "Komputer telah memilih sebuah angka antara 1 hingga 100.\n",
        "Anda memiliki 5 kali percobaan untuk menebak angka tersebut.\n",
        "Percobaan 1: Masukkan tebakan Anda: 50\n",
        "Tebakan Anda terlalu kecil.\n",
        "Percobaan 2: Masukkan tebakan Anda: 75\n",
        "Tebakan Anda terlalu besar.\n",
        "Percobaan 3: Masukkan tebakan Anda: 60\n",
        "Selamat! Anda berhasil menebak angka 60 dalam 3 percobaan."
      ],
      "metadata": {
        "id": "AaRRHFeY2ewK"
      },
      "execution_count": null,
      "outputs": []
    },
    {
      "cell_type": "markdown",
      "source": [
        "### Soal 6: Rekursi yang Tidak Biasa\n",
        "**Soal**: Buat fungsi rekursif yang menerima input bilangan bulat `n` dan menghasilkan urutan bilangan seperti berikut ini:\n",
        "```\n",
        "Input: n = 4\n",
        "Output: 1, 1, 2, 6, 24\n",
        "```\n",
        "Fungsi ini harus menggunakan konsep rekursi untuk menghitung faktorial setiap angka hingga `n`.\n",
        "\n",
        "**Tujuan**: Menguji pemahaman rekursi dengan penerapan unik dan sulit dipahami secara instan oleh AI.\n",
        "\n",
        "---\n",
        "\n"
      ],
      "metadata": {
        "id": "DtUDcf4x2kDf"
      }
    },
    {
      "cell_type": "code",
      "source": [
        "def faktorial(n):\n",
        "    \"\"\"Fungsi rekursif untuk menghitung faktorial dari n.\"\"\"\n",
        "    if n == 0 or n == 1:\n",
        "        return 1\n",
        "    else:\n",
        "        return n * faktorial(n - 1)\n",
        "\n",
        "def urutan_faktorial(n):\n",
        "    \"\"\"Fungsi untuk menghasilkan urutan faktorial dari 0 hingga n.\"\"\"\n",
        "    if n == 0:\n",
        "        return [1]  # Faktorial 0 adalah 1\n",
        "    else:\n",
        "        return urutan_faktorial(n - 1) + [faktorial(n)]\n",
        "\n",
        "# Contoh penggunaan\n",
        "n = 4\n",
        "hasil = urutan_faktorial(n)\n",
        "print(f\"Input: n = {n}\")\n",
        "print(f\"Output: {', '.join(map(str, hasil))}\")\n"
      ],
      "metadata": {
        "id": "mLa53aLo2qoF"
      },
      "execution_count": null,
      "outputs": []
    },
    {
      "cell_type": "markdown",
      "source": [
        "Penjelasan Program:\n",
        "Fungsi faktorial(n): Menghitung faktorial dari n secara rekursif. Jika n sama dengan 0 atau 1, maka fungsi mengembalikan 1 (karena faktorial 0 dan 1 adalah 1). Jika n lebih besar dari 1, fungsi akan memanggil dirinya sendiri hingga mencapai dasar rekursi.\n",
        "Fungsi urutan_faktorial(n): Menghasilkan urutan bilangan faktorial dari 0 hingga n. Fungsi ini juga rekursif dan menggabungkan hasil rekursi sebelumnya dengan hasil faktorial untuk angka saat ini.\n",
        "Contoh Penggunaan: Memanggil urutan_faktorial(4) akan menghasilkan urutan faktorial dari 0 hingga 4."
      ],
      "metadata": {
        "id": "x8tIsl1Z3Dtb"
      }
    },
    {
      "cell_type": "code",
      "source": [
        "Input: n = 4\n",
        "Output: 1, 1, 2, 6, 24"
      ],
      "metadata": {
        "id": "XRAGALqO3I3w"
      },
      "execution_count": null,
      "outputs": []
    },
    {
      "cell_type": "markdown",
      "source": [
        "### Soal 7: Pemrograman dengan Algoritma Greedy\n",
        "**Soal**: Buatlah program untuk memecahkan masalah \"minimum coin change\". Diberikan jumlah uang dan daftar nilai koin yang tersedia (misalnya, 1, 5, 10, 25), tentukan kombinasi minimum koin yang diperlukan untuk mencapai jumlah uang tersebut. Namun, program Anda harus bisa menangani koin-koin yang nilai dan jumlahnya ditentukan pengguna.\n",
        "\n",
        "**Tujuan**: Menguji kemampuan mahasiswa dalam memahami dan mengimplementasikan algoritma greedy, serta pemrograman modular.\n",
        "\n",
        "---\n"
      ],
      "metadata": {
        "id": "5UbyZjAw3X9E"
      }
    },
    {
      "cell_type": "code",
      "source": [
        "def minimum_coin_change(jumlah_uang, koin_dan_jumlah):\n",
        "    # Membuat array untuk menyimpan jumlah minimum koin yang diperlukan untuk setiap nilai hingga jumlah_uang\n",
        "    dp = [float('inf')] * (jumlah_uang + 1)\n",
        "    dp[0] = 0  # Untuk mencapai 0 uang, kita membutuhkan 0 koin\n",
        "\n",
        "    # Iterasi untuk setiap nilai koin\n",
        "    for nilai_koin, jumlah_koin in koin_dan_jumlah.items():\n",
        "        for _ in range(jumlah_koin):  # Menggunakan setiap koin sebanyak jumlah yang tersedia\n",
        "            for j in range(jumlah_uang, nilai_koin - 1, -1):\n",
        "                if dp[j - nilai_koin] != float('inf'):\n",
        "                    dp[j] = min(dp[j], dp[j - nilai_koin] + 1)\n",
        "\n",
        "    # Jika tidak ada solusi, maka kita kembalikan -1\n",
        "    if dp[jumlah_uang] == float('inf'):\n",
        "        return -1\n",
        "\n",
        "    # Jika ada solusi, kembalikan jumlah koin minimum\n",
        "    return dp[jumlah_uang]\n",
        "\n",
        "# Fungsi untuk mengambil input dari pengguna\n",
        "def main():\n",
        "    try:\n",
        "        # Input jumlah uang\n",
        "        jumlah_uang = int(input(\"Masukkan jumlah uang yang ingin dicapai: \"))\n",
        "\n",
        "        # Input nilai koin dan jumlah yang tersedia\n",
        "        koin_dan_jumlah = {}\n",
        "        while True:\n",
        "            koin = input(\"Masukkan nilai koin (atau ketik 'selesai' untuk berhenti): \")\n",
        "            if koin.lower() == 'selesai':\n",
        "                break\n",
        "            jumlah_koin = int(input(f\"Masukkan jumlah koin bernilai {koin}: \"))\n",
        "            koin_dan_jumlah[int(koin)] = jumlah_koin\n",
        "\n",
        "        # Panggil fungsi untuk menghitung minimum coin change\n",
        "        hasil = minimum_coin_change(jumlah_uang, koin_dan_jumlah)\n",
        "\n",
        "        if hasil == -1:\n",
        "            print(f\"Tidak ada kombinasi koin yang dapat mencapai jumlah uang {jumlah_uang}.\")\n",
        "        else:\n",
        "            print(f\"Kombinasi minimum koin yang diperlukan: {hasil} koin.\")\n",
        "\n",
        "    except ValueError:\n",
        "        print(\"Input tidak valid. Harap masukkan angka yang benar.\")\n",
        "\n",
        "# Menjalankan program\n",
        "if __name__ == \"__main__\":\n",
        "    main()\n"
      ],
      "metadata": {
        "id": "SfZRz_Un3fV6"
      },
      "execution_count": null,
      "outputs": []
    },
    {
      "cell_type": "markdown",
      "source": [
        "Penjelasan Program:\n",
        "Input dari Pengguna:\n",
        "\n",
        "Pengguna diminta memasukkan jumlah uang yang ingin dicapai.\n",
        "Pengguna memasukkan nilai koin beserta jumlah koin yang tersedia. Ketika pengguna selesai memasukkan data, mereka dapat mengetik 'selesai'.\n",
        "Dynamic Programming (DP):\n",
        "\n",
        "Array dp: Digunakan untuk menyimpan jumlah minimum koin yang diperlukan untuk setiap nilai dari 0 hingga jumlah_uang. dp[i] menyimpan jumlah koin minimum yang diperlukan untuk mencapai nilai i.\n",
        "Inisialisasi: dp[0] = 0 karena tidak memerlukan koin untuk mencapai jumlah 0.\n",
        "Iterasi: Untuk setiap nilai koin dan jumlah koin yang tersedia, program akan mencoba memperbarui solusi dengan mengambil koin tersebut sebanyak mungkin, tetapi tidak melebihi jumlah koin yang tersedia.\n",
        "Pengecekan Hasil:\n",
        "\n",
        "Jika tidak ada kombinasi koin yang memungkinkan untuk mencapai jumlah uang yang diberikan (dp[jumlah_uang] masih bernilai float('inf')), maka program mengembalikan -1 yang berarti tidak ada solusi.\n",
        "Jika ada solusi, program menampilkan jumlah minimum koin yang diperlukan."
      ],
      "metadata": {
        "id": "iW7hQqoB3__E"
      }
    },
    {
      "cell_type": "code",
      "source": [
        "Masukkan jumlah uang yang ingin dicapai: 30\n",
        "Masukkan nilai koin (atau ketik 'selesai' untuk berhenti): 10\n",
        "Masukkan jumlah koin bernilai 10: 2\n",
        "Masukkan nilai koin (atau ketik 'selesai' untuk berhenti): 5\n",
        "Masukkan jumlah koin bernilai 5: 3\n",
        "Masukkan nilai koin (atau ketik 'selesai' untuk berhenti): selesai\n",
        "Kombinasi minimum koin yang diperlukan: 3 koin."
      ],
      "metadata": {
        "id": "auD_Okfa4Nzo"
      },
      "execution_count": null,
      "outputs": []
    },
    {
      "cell_type": "markdown",
      "source": [
        "### Soal 8: Kombinasi String dan Manipulasi List\n",
        "**Soal**: Buat sebuah program yang menerima string dari pengguna dan mengonversi string tersebut menjadi sebuah list berisi kata-kata terbalik. Misalnya:\n",
        "```\n",
        "Input: \"Saya suka Python\"\n",
        "Output: [\"ayaS\", \"akus\", \"nohtyP\"]\n",
        "```\n",
        "\n",
        "**Tujuan**: Menguji mahasiswa dalam manipulasi string dan list, serta penerapan logika kreatif.\n",
        "\n",
        "---\n"
      ],
      "metadata": {
        "id": "tuYA0boa4Yh1"
      }
    },
    {
      "cell_type": "code",
      "source": [
        "def balik_kata(kalimat):\n",
        "    # Memecah string menjadi list kata-kata\n",
        "    kata_kata = kalimat.split()\n",
        "\n",
        "    # Membalik setiap kata dalam list\n",
        "    kata_kata_terbalik = [kata[::-1] for kata in kata_kata]\n",
        "\n",
        "    return kata_kata_terbalik\n",
        "\n",
        "# Input dari pengguna\n",
        "input_string = input(\"Masukkan sebuah kalimat: \")\n",
        "\n",
        "# Memanggil fungsi dan mencetak hasil\n",
        "output = balik_kata(input_string)\n",
        "print(\"Output:\", output)\n"
      ],
      "metadata": {
        "id": "vUta_TBu4dzi"
      },
      "execution_count": null,
      "outputs": []
    },
    {
      "cell_type": "markdown",
      "source": [
        "Penjelasan Program:\n",
        "Fungsi balik_kata(kalimat):\n",
        "\n",
        "Pertama, kalimat dipecah menjadi list kata-kata menggunakan metode split(), yang secara otomatis memisahkan kata berdasarkan spasi.\n",
        "Lalu, setiap kata dalam list dibalik menggunakan slicing [::-1], yang akan membalik urutan karakter dalam setiap kata.\n",
        "Hasilnya adalah list berisi kata-kata yang terbalik.\n",
        "Input dari Pengguna:\n",
        "\n",
        "Pengguna diminta memasukkan sebuah kalimat.\n",
        "Program akan memanggil fungsi balik_kata() dengan input string tersebut, dan hasilnya berupa list kata-kata terbalik."
      ],
      "metadata": {
        "id": "d1lbTRIg42EE"
      }
    },
    {
      "cell_type": "code",
      "source": [
        "Masukkan sebuah kalimat: Saya suka Python\n",
        "Output: ['eyaS', 'akus', 'nohtyP']"
      ],
      "metadata": {
        "id": "h1QZ5gZh47uG"
      },
      "execution_count": null,
      "outputs": []
    },
    {
      "cell_type": "markdown",
      "source": [
        "### Soal 9: Konsep Class dan Object-Oriented Programming\n",
        "**Soal**: Buat class bernama `Buku` yang memiliki atribut `judul`, `penulis`, dan `tahun_terbit`. Buat method dalam class untuk menampilkan informasi buku, serta method untuk menghitung usia buku berdasarkan tahun saat ini. Buatlah 3 objek dari class `Buku` dan tampilkan informasi serta usia masing-masing buku.\n",
        "\n",
        "**Tujuan**: Menguji pemahaman OOP, pembuatan class, penggunaan method, serta manipulasi atribut.\n",
        "\n",
        "---\n"
      ],
      "metadata": {
        "id": "OABWesIu4_2D"
      }
    },
    {
      "cell_type": "code",
      "source": [
        "from datetime import datetime\n",
        "\n",
        "class Buku:\n",
        "    def __init__(self, judul, penulis, tahun_terbit):\n",
        "        \"\"\"Inisialisasi atribut Buku\"\"\"\n",
        "        self.judul = judul\n",
        "        self.penulis = penulis\n",
        "        self.tahun_terbit = tahun_terbit\n",
        "\n",
        "    def tampilkan_info(self):\n",
        "        \"\"\"Menampilkan informasi buku\"\"\"\n",
        "        print(f\"Judul: {self.judul}\")\n",
        "        print(f\"Penulis: {self.penulis}\")\n",
        "        print(f\"Tahun Terbit: {self.tahun_terbit}\")\n",
        "\n",
        "    def hitung_usia(self):\n",
        "        \"\"\"Menghitung usia buku berdasarkan tahun saat ini\"\"\"\n",
        "        tahun_saat_ini = datetime.now().year\n",
        "        usia = tahun_saat_ini - self.tahun_terbit\n",
        "        return usia\n",
        "\n",
        "# Membuat 3 objek dari class Buku\n",
        "buku1 = Buku(\"Belajar Python\", \"John Doe\", 2015)\n",
        "buku2 = Buku(\"Pemrograman Lanjut\", \"Jane Smith\", 2018)\n",
        "buku3 = Buku(\"Algoritma dan Struktur Data\", \"Alice Brown\", 2010)\n",
        "\n",
        "# Menampilkan informasi dan usia masing-masing buku\n",
        "buku_list = [buku1, buku2, buku3]\n",
        "\n",
        "for buku in buku_list:\n",
        "    buku.tampilkan_info()\n",
        "    print(f\"Usia Buku: {buku.hitung_usia()} tahun\\n\")\n"
      ],
      "metadata": {
        "id": "NNFRmHbJ5E91"
      },
      "execution_count": null,
      "outputs": []
    },
    {
      "cell_type": "markdown",
      "source": [
        "Penjelasan Program:\n",
        "Class Buku:\n",
        "\n",
        "Method __init__ digunakan untuk menginisialisasi atribut judul, penulis, dan tahun_terbit.\n",
        "Method tampilkan_info() digunakan untuk menampilkan informasi buku, yaitu judul, penulis, dan tahun terbit.\n",
        "Method hitung_usia() digunakan untuk menghitung usia buku dengan cara mengurangi tahun saat ini (datetime.now().year) dengan tahun_terbit.\n",
        "Objek dari Class Buku:\n",
        "\n",
        "Membuat tiga objek dari class Buku, masing-masing dengan judul, penulis, dan tahun terbit yang berbeda.\n",
        "Menampilkan Informasi:\n",
        "\n",
        "Program menampilkan informasi buku (judul, penulis, dan tahun terbit) serta usia buku dengan menggunakan method yang ada di class Buku."
      ],
      "metadata": {
        "id": "Lj7uMnDA5e2o"
      }
    },
    {
      "cell_type": "code",
      "source": [
        "Judul: Belajar Python\n",
        "Penulis: John Doe\n",
        "Tahun Terbit: 2015\n",
        "Usia Buku: 9 tahun\n",
        "\n",
        "Judul: Pemrograman Lanjut\n",
        "Penulis: Jane Smith\n",
        "Tahun Terbit: 2018\n",
        "Usia Buku: 6 tahun\n",
        "\n",
        "Judul: Algoritma dan Struktur Data\n",
        "Penulis: Alice Brown\n",
        "Tahun Terbit: 2010\n",
        "Usia Buku: 14 tahun"
      ],
      "metadata": {
        "id": "r5HK7Acq5klh"
      },
      "execution_count": null,
      "outputs": []
    },
    {
      "cell_type": "markdown",
      "source": [
        "\n",
        "### Soal 10: Algoritma dengan Persyaratan Logika Khusus\n",
        "**Soal**: Buatlah program yang mengimplementasikan algoritma pencarian biner, namun dengan modifikasi: algoritma harus bisa mencari nilai di list yang hanya berisi angka genap, dan jika nilai yang dicari adalah angka ganjil, program harus menampilkan pesan bahwa nilai tersebut tidak bisa ditemukan.\n",
        "\n",
        "**Tujuan**: Menguji pemahaman algoritma pencarian serta pengkondisian logika yang lebih kompleks.\n",
        "\n",
        "---\n",
        "\n",
        "Soal-soal ini mendorong mahasiswa untuk memahami konsep secara mendalam, menganalisis masalah, dan menghasilkan solusi yang kreatif. Mahasiswa tidak hanya akan fokus pada sintaks, tetapi juga cara berpikir dalam menyelesaikan masalah yang tidak mudah dicari jawabannya secara langsung.\n"
      ],
      "metadata": {
        "id": "Te33fIlz5tZa"
      }
    },
    {
      "cell_type": "code",
      "source": [
        "def binary_search_genap(arr, target):\n",
        "    # Cek apakah target adalah angka ganjil\n",
        "    if target % 2 != 0:\n",
        "        print(f\"Angka {target} adalah angka ganjil, tidak dapat ditemukan.\")\n",
        "        return False\n",
        "\n",
        "    # Algoritma binary search untuk mencari angka genap\n",
        "    left, right = 0, len(arr) - 1\n",
        "    while left <= right:\n",
        "        mid = (left + right) // 2\n",
        "\n",
        "        # Jika elemen tengah adalah target\n",
        "        if arr[mid] == target:\n",
        "            return mid\n",
        "        # Jika target lebih kecil, geser ke kiri\n",
        "        elif arr[mid] > target:\n",
        "            right = mid - 1\n",
        "        # Jika target lebih besar, geser ke kanan\n",
        "        else:\n",
        "            left = mid + 1\n",
        "\n",
        "    # Jika tidak ditemukan\n",
        "    return -1\n",
        "\n",
        "# Fungsi utama\n",
        "def main():\n",
        "    # Daftar angka yang hanya berisi angka genap\n",
        "    list_genap = [2, 4, 6, 8, 10, 12, 14, 16, 18, 20]\n",
        "\n",
        "    # Input dari pengguna\n",
        "    target = int(input(\"Masukkan angka yang ingin dicari: \"))\n",
        "\n",
        "    # Panggil fungsi binary search\n",
        "    hasil = binary_search_genap(list_genap, target)\n",
        "\n",
        "    if hasil == -1:\n",
        "        print(f\"Angka {target} tidak ditemukan di dalam list.\")\n",
        "    elif hasil is not False:\n",
        "        print(f\"Angka {target} ditemukan pada indeks {hasil}.\")\n",
        "\n",
        "# Menjalankan program\n",
        "if __name__ == \"__main__\":\n",
        "    main()\n"
      ],
      "metadata": {
        "id": "W_NNa18o53V5"
      },
      "execution_count": null,
      "outputs": []
    },
    {
      "cell_type": "markdown",
      "source": [
        "Penjelasan Program:\n",
        "Fungsi binary_search_genap(arr, target):\n",
        "\n",
        "Cek angka ganjil: Jika angka yang dicari adalah angka ganjil (target % 2 != 0), program akan menampilkan pesan bahwa angka ganjil tidak bisa ditemukan.\n",
        "Pencarian biner: Jika angka yang dicari adalah angka genap, program akan melakukan pencarian biner pada list arr. Metode ini membagi list menjadi dua dan mengecek bagian tengahnya untuk mengurangi jumlah pencarian.\n",
        "Pengembalian hasil: Jika angka ditemukan, program mengembalikan indeks dari elemen yang dicari. Jika tidak ditemukan, program mengembalikan -1.\n",
        "Fungsi main():\n",
        "\n",
        "Daftar angka genap (list_genap) berisi angka genap yang terurut.\n",
        "Pengguna diminta memasukkan angka yang ingin dicari.\n",
        "Program akan memanggil fungsi binary_search_genap() dan menampilkan hasil pencarian, apakah angka ditemukan atau tidak."
      ],
      "metadata": {
        "id": "S4esSYCJ6Koz"
      }
    },
    {
      "cell_type": "markdown",
      "source": [
        "Jika pengguna memasukkan angka genap:"
      ],
      "metadata": {
        "id": "L5crjY006sUF"
      }
    },
    {
      "cell_type": "code",
      "source": [
        "Masukkan angka yang ingin dicari: 10\n",
        "Angka 10 ditemukan pada indeks 4.\n"
      ],
      "metadata": {
        "id": "oFaqeQY463tA"
      },
      "execution_count": null,
      "outputs": []
    },
    {
      "cell_type": "markdown",
      "source": [
        "Jika pengguna memasukkan angka ganjil:"
      ],
      "metadata": {
        "id": "-0pLWLOC7EFi"
      }
    },
    {
      "cell_type": "code",
      "source": [
        "Masukkan angka yang ingin dicari: 7\n",
        "Angka 7 adalah angka ganjil, tidak dapat ditemukan.\n"
      ],
      "metadata": {
        "id": "yn6UJZU_7Hxv"
      },
      "execution_count": null,
      "outputs": []
    },
    {
      "cell_type": "markdown",
      "source": [
        "Jika angka tidak ditemukan:"
      ],
      "metadata": {
        "id": "ugUTBgI87MrP"
      }
    },
    {
      "cell_type": "code",
      "source": [
        "Masukkan angka yang ingin dicari: 22\n",
        "Angka 22 tidak ditemukan di dalam list.\n"
      ],
      "metadata": {
        "id": "8mTzDFzm7gR2"
      },
      "execution_count": null,
      "outputs": []
    }
  ]
}